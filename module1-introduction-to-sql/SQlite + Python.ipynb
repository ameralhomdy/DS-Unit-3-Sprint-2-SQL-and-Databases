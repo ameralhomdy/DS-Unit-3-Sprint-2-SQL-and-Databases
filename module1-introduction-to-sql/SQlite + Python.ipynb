{
 "cells": [
  {
   "cell_type": "code",
   "execution_count": 1,
   "metadata": {
    "ExecuteTime": {
     "end_time": "2019-09-10T16:33:24.005599Z",
     "start_time": "2019-09-10T16:33:22.918021Z"
    }
   },
   "outputs": [],
   "source": [
    "import sqlite3\n",
    "import pandas as pd\n",
    "def create_connection(db_file, verbose=False):\n",
    "    \"\"\" create a database connection to a SQLite database \"\"\"\n",
    "    conn = None\n",
    "    try:\n",
    "        conn = sqlite3.connect(db_file)\n",
    "        if verbose:\n",
    "            print(f'Using SQLite version: {sqlite3.version}')\n",
    "            print(f'Creating Connection to {db_file}...')\n",
    "        return conn\n",
    "    except sqlite3.Error as e:\n",
    "        print(e)\n",
    "\n",
    "\n",
    "def select_all_query(db_file, query, verbose=False):\n",
    "    \"\"\"\n",
    "    Query all rows in the database table\n",
    "    :param db_file: database file\n",
    "    :return: result as list\n",
    "    \"\"\"\n",
    "    conn = create_connection(db_file, verbose)\n",
    "    cur = conn.cursor()\n",
    "    if not query.startswith('SELECT'):\n",
    "        raise ValueError('Query should begin with `SELECT`')\n",
    "    \n",
    "    cur.execute(query)\n",
    "    rows = cur.fetchall()\n",
    "\n",
    "    if verbose:\n",
    "        for row in rows:\n",
    "            print(row)\n",
    "\n",
    "    return rows"
   ]
  },
  {
   "cell_type": "markdown",
   "metadata": {},
   "source": [
    "### Assignment - Part 1, Querying a Database\n",
    "---\n",
    "\n",
    "This directory contains a file `rpg_db.sqlite3`, a database for a hypothetical\n",
    "webapp role-playing game. This test data has dozens-to-hundreds of randomly\n",
    "generated characters across the base classes (Fighter, Mage, Cleric, and Thief)\n",
    "as well as a few Necromancers. Also generated are Items, Weapons, and\n",
    "connections from characters to them. Note that, while the name field was\n",
    "randomized, the numeric and boolean fields were left as defaults.\n",
    "\n",
    "Use `sqlite3` to load and write queries to explore the data, and answer the\n",
    "following questions:\n",
    "\n",
    "- How many total Characters are there?\n",
    "- How many of each specific subclass?\n",
    "- How many total Items?\n",
    "- How many of the Items are weapons? How many are not?\n",
    "- How many Items does each character have? (Return first 20 rows)\n",
    "- How many Weapons does each character have? (Return first 20 rows)\n",
    "- On average, how many Items does each Character have?\n",
    "- On average, how many Weapons does each character have?\n",
    "\n",
    "You do not need all the tables - in particular, the `account_*`, `auth_*`,\n",
    "`django_*`, and `socialaccount_*` tables are for the application and do not have\n",
    "the data you need. the `charactercreator_*` and `armory_*` tables and where you\n",
    "should focus your attention. `armory_item` and `charactercreator_character` are\n",
    "the main tables for Items and Characters respectively - the other tables are\n",
    "subsets of them by type (i.e. subclasses), connected via a key (`item_id` and\n",
    "`character_id`).\n",
    "\n",
    "You can use the DB Browser or other tools to explore the data and work on your\n",
    "queries if you wish, but to complete the assignment you should write a file\n",
    "`rpg_queries.py` that imports `sqlite3` and programmatically executes and\n",
    "reports results for the above queries.\n",
    "\n",
    "Some of these queries are challenging - that's OK! You can keep working on them\n",
    "tomorrow as well (we'll visit loading the same data into PostgreSQL). It's also\n",
    "OK to figure out the results partially with a query and partially with a bit of\n",
    "logic or math afterwards, though doing things purely with SQL is a good goal.\n",
    "[Subqueries](https://www.w3resource.com/sql/subqueries/understanding-sql-subqueries.php)\n",
    "and [aggregation functions](https://www.sqltutorial.org/sql-aggregate-functions/)\n",
    "may be helpful for putting together more complicated queries."
   ]
  },
  {
   "cell_type": "markdown",
   "metadata": {},
   "source": [
    "1. How many total Characters are there?"
   ]
  },
  {
   "cell_type": "code",
   "execution_count": 2,
   "metadata": {
    "ExecuteTime": {
     "end_time": "2019-09-10T16:33:24.017141Z",
     "start_time": "2019-09-10T16:33:24.007445Z"
    }
   },
   "outputs": [
    {
     "name": "stdout",
     "output_type": "stream",
     "text": [
      "How many total Characters are there?  302\n"
     ]
    }
   ],
   "source": [
    "results = select_all_query('rpg_db.sqlite3', 'SELECT COUNT(*) FROM charactercreator_character')\n",
    "print('How many total Characters are there? ', results[0][0])"
   ]
  },
  {
   "cell_type": "markdown",
   "metadata": {},
   "source": [
    "2. How many of each specific subclass?"
   ]
  },
  {
   "cell_type": "markdown",
   "metadata": {},
   "source": [
    "**mage**"
   ]
  },
  {
   "cell_type": "code",
   "execution_count": 3,
   "metadata": {
    "ExecuteTime": {
     "end_time": "2019-09-10T16:33:24.068856Z",
     "start_time": "2019-09-10T16:33:24.018890Z"
    }
   },
   "outputs": [
    {
     "name": "stdout",
     "output_type": "stream",
     "text": [
      "How many of each mage subclass?  108\n"
     ]
    }
   ],
   "source": [
    "results = select_all_query('rpg_db.sqlite3', 'SELECT COUNT(*) FROM charactercreator_character as cc INNER JOIN charactercreator_mage as mage on cc.character_id = mage.character_ptr_id')\n",
    "print('How many of each mage subclass? ', results[0][0])"
   ]
  },
  {
   "cell_type": "markdown",
   "metadata": {},
   "source": [
    "**thief**"
   ]
  },
  {
   "cell_type": "code",
   "execution_count": 4,
   "metadata": {
    "ExecuteTime": {
     "end_time": "2019-09-10T16:33:24.119574Z",
     "start_time": "2019-09-10T16:33:24.070973Z"
    }
   },
   "outputs": [
    {
     "name": "stdout",
     "output_type": "stream",
     "text": [
      "How many of each thief subclass?  51\n"
     ]
    }
   ],
   "source": [
    "results = select_all_query('rpg_db.sqlite3', 'SELECT COUNT(*) FROM charactercreator_character as cc INNER JOIN charactercreator_thief as thief on cc.character_id = thief.character_ptr_id')\n",
    "print('How many of each thief subclass? ', results[0][0])"
   ]
  },
  {
   "cell_type": "markdown",
   "metadata": {},
   "source": [
    "**cleric**"
   ]
  },
  {
   "cell_type": "code",
   "execution_count": 5,
   "metadata": {
    "ExecuteTime": {
     "end_time": "2019-09-10T16:33:24.172299Z",
     "start_time": "2019-09-10T16:33:24.122715Z"
    }
   },
   "outputs": [
    {
     "name": "stdout",
     "output_type": "stream",
     "text": [
      "How many of each cleric subclass?  75\n"
     ]
    }
   ],
   "source": [
    "results = select_all_query('rpg_db.sqlite3', 'SELECT COUNT(*) FROM charactercreator_character as cc INNER JOIN charactercreator_cleric as cleric on cc.character_id = cleric.character_ptr_id')\n",
    "print('How many of each cleric subclass? ', results[0][0])"
   ]
  },
  {
   "cell_type": "markdown",
   "metadata": {},
   "source": [
    "**fighter**"
   ]
  },
  {
   "cell_type": "code",
   "execution_count": 6,
   "metadata": {
    "ExecuteTime": {
     "end_time": "2019-09-10T16:33:24.217123Z",
     "start_time": "2019-09-10T16:33:24.175419Z"
    }
   },
   "outputs": [
    {
     "name": "stdout",
     "output_type": "stream",
     "text": [
      "How many of each fighter subclass?  68\n"
     ]
    }
   ],
   "source": [
    "results = select_all_query('rpg_db.sqlite3', 'SELECT COUNT(*) FROM charactercreator_character as cc INNER JOIN charactercreator_fighter as fighter on cc.character_id = fighter.character_ptr_id')\n",
    "print('How many of each fighter subclass? ', results[0][0])"
   ]
  },
  {
   "cell_type": "markdown",
   "metadata": {},
   "source": [
    "3. How many total Items?"
   ]
  },
  {
   "cell_type": "code",
   "execution_count": 7,
   "metadata": {
    "ExecuteTime": {
     "end_time": "2019-09-10T16:33:24.269136Z",
     "start_time": "2019-09-10T16:33:24.220639Z"
    }
   },
   "outputs": [
    {
     "name": "stdout",
     "output_type": "stream",
     "text": [
      "How many total items? 174\n"
     ]
    }
   ],
   "source": [
    "results = select_all_query('rpg_db.sqlite3', 'SELECT COUNT(*) FROM armory_item')\n",
    "print('How many total items?', results[0][0])"
   ]
  },
  {
   "cell_type": "markdown",
   "metadata": {},
   "source": [
    "4. How many of the Items are weapons? How many are not?"
   ]
  },
  {
   "cell_type": "code",
   "execution_count": 8,
   "metadata": {
    "ExecuteTime": {
     "end_time": "2019-09-10T16:33:24.316099Z",
     "start_time": "2019-09-10T16:33:24.273935Z"
    }
   },
   "outputs": [
    {
     "name": "stdout",
     "output_type": "stream",
     "text": [
      "How many of the items are weapons?  37\n"
     ]
    }
   ],
   "source": [
    "results = select_all_query('rpg_db.sqlite3', 'SELECT COUNT(*) FROM armory_item as item INNER JOIN armory_weapon as weapon ON item.item_id = weapon.item_ptr_id')\n",
    "print('How many of the items are weapons? ', results[0][0])"
   ]
  },
  {
   "cell_type": "code",
   "execution_count": 9,
   "metadata": {
    "ExecuteTime": {
     "end_time": "2019-09-10T16:33:24.367581Z",
     "start_time": "2019-09-10T16:33:24.318472Z"
    }
   },
   "outputs": [
    {
     "name": "stdout",
     "output_type": "stream",
     "text": [
      "How many of the items are not weapons?  137\n"
     ]
    }
   ],
   "source": [
    "results = select_all_query('rpg_db.sqlite3', 'SELECT (SELECT COUNT(*) FROM armory_item) - (SELECT COUNT(*) FROM armory_item as item INNER JOIN armory_weapon as weapon ON item.item_id = weapon.item_ptr_id)')\n",
    "print('How many of the items are not weapons? ', results[0][0])"
   ]
  },
  {
   "cell_type": "markdown",
   "metadata": {},
   "source": [
    "5. How many Items does each character have? (Return first 20 rows)"
   ]
  },
  {
   "cell_type": "code",
   "execution_count": 10,
   "metadata": {
    "ExecuteTime": {
     "end_time": "2019-09-10T16:33:24.459981Z",
     "start_time": "2019-09-10T16:33:24.369469Z"
    }
   },
   "outputs": [
    {
     "data": {
      "text/plain": [
       "(20, 2)"
      ]
     },
     "execution_count": 10,
     "metadata": {},
     "output_type": "execute_result"
    }
   ],
   "source": [
    "query = '''SELECT character_id as `Character Id`, COUNT(item_id) as `Item Count` \n",
    "FROM charactercreator_character_inventory \n",
    "GROUP BY character_id LIMIT 20'''\n",
    "conn = create_connection('rpg_db.sqlite3')\n",
    "df = pd.read_sql(query, conn)\n",
    "df.shape"
   ]
  },
  {
   "cell_type": "markdown",
   "metadata": {},
   "source": [
    "6. How many Weapons does each character have? (Return first 20 rows)"
   ]
  },
  {
   "cell_type": "code",
   "execution_count": 11,
   "metadata": {
    "ExecuteTime": {
     "end_time": "2019-09-10T16:33:24.510301Z",
     "start_time": "2019-09-10T16:33:24.468097Z"
    }
   },
   "outputs": [
    {
     "data": {
      "text/html": [
       "<div>\n",
       "<style scoped>\n",
       "    .dataframe tbody tr th:only-of-type {\n",
       "        vertical-align: middle;\n",
       "    }\n",
       "\n",
       "    .dataframe tbody tr th {\n",
       "        vertical-align: top;\n",
       "    }\n",
       "\n",
       "    .dataframe thead th {\n",
       "        text-align: right;\n",
       "    }\n",
       "</style>\n",
       "<table border=\"1\" class=\"dataframe\">\n",
       "  <thead>\n",
       "    <tr style=\"text-align: right;\">\n",
       "      <th></th>\n",
       "      <th>Character Id</th>\n",
       "      <th>Weapon Count</th>\n",
       "    </tr>\n",
       "  </thead>\n",
       "  <tbody>\n",
       "    <tr>\n",
       "      <th>0</th>\n",
       "      <td>5</td>\n",
       "      <td>2</td>\n",
       "    </tr>\n",
       "    <tr>\n",
       "      <th>1</th>\n",
       "      <td>7</td>\n",
       "      <td>1</td>\n",
       "    </tr>\n",
       "    <tr>\n",
       "      <th>2</th>\n",
       "      <td>11</td>\n",
       "      <td>1</td>\n",
       "    </tr>\n",
       "    <tr>\n",
       "      <th>3</th>\n",
       "      <td>20</td>\n",
       "      <td>1</td>\n",
       "    </tr>\n",
       "    <tr>\n",
       "      <th>4</th>\n",
       "      <td>22</td>\n",
       "      <td>1</td>\n",
       "    </tr>\n",
       "    <tr>\n",
       "      <th>5</th>\n",
       "      <td>23</td>\n",
       "      <td>1</td>\n",
       "    </tr>\n",
       "    <tr>\n",
       "      <th>6</th>\n",
       "      <td>26</td>\n",
       "      <td>1</td>\n",
       "    </tr>\n",
       "    <tr>\n",
       "      <th>7</th>\n",
       "      <td>27</td>\n",
       "      <td>3</td>\n",
       "    </tr>\n",
       "    <tr>\n",
       "      <th>8</th>\n",
       "      <td>29</td>\n",
       "      <td>2</td>\n",
       "    </tr>\n",
       "    <tr>\n",
       "      <th>9</th>\n",
       "      <td>30</td>\n",
       "      <td>1</td>\n",
       "    </tr>\n",
       "    <tr>\n",
       "      <th>10</th>\n",
       "      <td>32</td>\n",
       "      <td>1</td>\n",
       "    </tr>\n",
       "    <tr>\n",
       "      <th>11</th>\n",
       "      <td>34</td>\n",
       "      <td>1</td>\n",
       "    </tr>\n",
       "    <tr>\n",
       "      <th>12</th>\n",
       "      <td>35</td>\n",
       "      <td>2</td>\n",
       "    </tr>\n",
       "    <tr>\n",
       "      <th>13</th>\n",
       "      <td>36</td>\n",
       "      <td>3</td>\n",
       "    </tr>\n",
       "    <tr>\n",
       "      <th>14</th>\n",
       "      <td>37</td>\n",
       "      <td>2</td>\n",
       "    </tr>\n",
       "    <tr>\n",
       "      <th>15</th>\n",
       "      <td>38</td>\n",
       "      <td>2</td>\n",
       "    </tr>\n",
       "    <tr>\n",
       "      <th>16</th>\n",
       "      <td>39</td>\n",
       "      <td>2</td>\n",
       "    </tr>\n",
       "    <tr>\n",
       "      <th>17</th>\n",
       "      <td>40</td>\n",
       "      <td>1</td>\n",
       "    </tr>\n",
       "    <tr>\n",
       "      <th>18</th>\n",
       "      <td>41</td>\n",
       "      <td>1</td>\n",
       "    </tr>\n",
       "    <tr>\n",
       "      <th>19</th>\n",
       "      <td>47</td>\n",
       "      <td>1</td>\n",
       "    </tr>\n",
       "  </tbody>\n",
       "</table>\n",
       "</div>"
      ],
      "text/plain": [
       "    Character Id  Weapon Count\n",
       "0              5             2\n",
       "1              7             1\n",
       "2             11             1\n",
       "3             20             1\n",
       "4             22             1\n",
       "5             23             1\n",
       "6             26             1\n",
       "7             27             3\n",
       "8             29             2\n",
       "9             30             1\n",
       "10            32             1\n",
       "11            34             1\n",
       "12            35             2\n",
       "13            36             3\n",
       "14            37             2\n",
       "15            38             2\n",
       "16            39             2\n",
       "17            40             1\n",
       "18            41             1\n",
       "19            47             1"
      ]
     },
     "execution_count": 11,
     "metadata": {},
     "output_type": "execute_result"
    }
   ],
   "source": [
    "query = '''SELECT cci.character_id as `Character Id`, COUNT(aw.item_ptr_id) as `Weapon Count`\n",
    "FROM charactercreator_character_inventory as cci\n",
    "INNER JOIN armory_item as ai ON cci.item_id = ai.item_id\n",
    "INNER JOIN armory_weapon as aw ON ai.item_id = aw.item_ptr_id\n",
    "GROUP BY cci.character_id\n",
    "LIMIT 20;'''\n",
    "conn = create_connection('rpg_db.sqlite3')\n",
    "df = pd.read_sql(query, conn)\n",
    "df"
   ]
  },
  {
   "cell_type": "markdown",
   "metadata": {},
   "source": [
    "7. On average, how many Items does each Character have?"
   ]
  },
  {
   "cell_type": "code",
   "execution_count": 12,
   "metadata": {
    "ExecuteTime": {
     "end_time": "2019-09-10T16:33:24.557794Z",
     "start_time": "2019-09-10T16:33:24.512131Z"
    }
   },
   "outputs": [
    {
     "data": {
      "text/html": [
       "<div>\n",
       "<style scoped>\n",
       "    .dataframe tbody tr th:only-of-type {\n",
       "        vertical-align: middle;\n",
       "    }\n",
       "\n",
       "    .dataframe tbody tr th {\n",
       "        vertical-align: top;\n",
       "    }\n",
       "\n",
       "    .dataframe thead th {\n",
       "        text-align: right;\n",
       "    }\n",
       "</style>\n",
       "<table border=\"1\" class=\"dataframe\">\n",
       "  <thead>\n",
       "    <tr style=\"text-align: right;\">\n",
       "      <th></th>\n",
       "      <th>Character Id</th>\n",
       "      <th>Item Count</th>\n",
       "    </tr>\n",
       "  </thead>\n",
       "  <tbody>\n",
       "    <tr>\n",
       "      <th>count</th>\n",
       "      <td>302.000000</td>\n",
       "      <td>302.000000</td>\n",
       "    </tr>\n",
       "    <tr>\n",
       "      <th>mean</th>\n",
       "      <td>151.500000</td>\n",
       "      <td>2.973510</td>\n",
       "    </tr>\n",
       "    <tr>\n",
       "      <th>std</th>\n",
       "      <td>87.324109</td>\n",
       "      <td>1.430317</td>\n",
       "    </tr>\n",
       "    <tr>\n",
       "      <th>min</th>\n",
       "      <td>1.000000</td>\n",
       "      <td>1.000000</td>\n",
       "    </tr>\n",
       "    <tr>\n",
       "      <th>25%</th>\n",
       "      <td>76.250000</td>\n",
       "      <td>2.000000</td>\n",
       "    </tr>\n",
       "    <tr>\n",
       "      <th>50%</th>\n",
       "      <td>151.500000</td>\n",
       "      <td>3.000000</td>\n",
       "    </tr>\n",
       "    <tr>\n",
       "      <th>75%</th>\n",
       "      <td>226.750000</td>\n",
       "      <td>4.000000</td>\n",
       "    </tr>\n",
       "    <tr>\n",
       "      <th>max</th>\n",
       "      <td>302.000000</td>\n",
       "      <td>5.000000</td>\n",
       "    </tr>\n",
       "  </tbody>\n",
       "</table>\n",
       "</div>"
      ],
      "text/plain": [
       "       Character Id  Item Count\n",
       "count    302.000000  302.000000\n",
       "mean     151.500000    2.973510\n",
       "std       87.324109    1.430317\n",
       "min        1.000000    1.000000\n",
       "25%       76.250000    2.000000\n",
       "50%      151.500000    3.000000\n",
       "75%      226.750000    4.000000\n",
       "max      302.000000    5.000000"
      ]
     },
     "execution_count": 12,
     "metadata": {},
     "output_type": "execute_result"
    }
   ],
   "source": [
    "query = '''SELECT character_id as `Character Id`, COUNT(item_id) as `Item Count` \n",
    "FROM charactercreator_character_inventory \n",
    "GROUP BY character_id'''\n",
    "conn = create_connection('rpg_db.sqlite3')\n",
    "df = pd.read_sql(query, conn)\n",
    "df.describe()"
   ]
  },
  {
   "cell_type": "code",
   "execution_count": 13,
   "metadata": {
    "ExecuteTime": {
     "end_time": "2019-09-10T16:33:24.584066Z",
     "start_time": "2019-09-10T16:33:24.559490Z"
    }
   },
   "outputs": [
    {
     "data": {
      "text/html": [
       "<div>\n",
       "<style scoped>\n",
       "    .dataframe tbody tr th:only-of-type {\n",
       "        vertical-align: middle;\n",
       "    }\n",
       "\n",
       "    .dataframe tbody tr th {\n",
       "        vertical-align: top;\n",
       "    }\n",
       "\n",
       "    .dataframe thead th {\n",
       "        text-align: right;\n",
       "    }\n",
       "</style>\n",
       "<table border=\"1\" class=\"dataframe\">\n",
       "  <thead>\n",
       "    <tr style=\"text-align: right;\">\n",
       "      <th></th>\n",
       "      <th>AVG(c)</th>\n",
       "    </tr>\n",
       "  </thead>\n",
       "  <tbody>\n",
       "    <tr>\n",
       "      <th>0</th>\n",
       "      <td>2.97351</td>\n",
       "    </tr>\n",
       "  </tbody>\n",
       "</table>\n",
       "</div>"
      ],
      "text/plain": [
       "    AVG(c)\n",
       "0  2.97351"
      ]
     },
     "execution_count": 13,
     "metadata": {},
     "output_type": "execute_result"
    }
   ],
   "source": [
    "query = '''SELECT AVG(c)\n",
    "FROM(\n",
    "SELECT character_id, COUNT(item_id) as c\n",
    "FROM charactercreator_character_inventory\n",
    "GROUP BY character_id\n",
    ")\n",
    "'''\n",
    "conn = create_connection('rpg_db.sqlite3')\n",
    "df = pd.read_sql(query, conn)\n",
    "df"
   ]
  },
  {
   "cell_type": "code",
   "execution_count": 23,
   "metadata": {
    "ExecuteTime": {
     "end_time": "2019-09-10T16:35:03.393403Z",
     "start_time": "2019-09-10T16:35:03.380375Z"
    }
   },
   "outputs": [
    {
     "data": {
      "text/html": [
       "<div>\n",
       "<style scoped>\n",
       "    .dataframe tbody tr th:only-of-type {\n",
       "        vertical-align: middle;\n",
       "    }\n",
       "\n",
       "    .dataframe tbody tr th {\n",
       "        vertical-align: top;\n",
       "    }\n",
       "\n",
       "    .dataframe thead th {\n",
       "        text-align: right;\n",
       "    }\n",
       "</style>\n",
       "<table border=\"1\" class=\"dataframe\">\n",
       "  <thead>\n",
       "    <tr style=\"text-align: right;\">\n",
       "      <th></th>\n",
       "      <th>AVG(counted)</th>\n",
       "    </tr>\n",
       "  </thead>\n",
       "  <tbody>\n",
       "    <tr>\n",
       "      <th>0</th>\n",
       "      <td>2.97351</td>\n",
       "    </tr>\n",
       "  </tbody>\n",
       "</table>\n",
       "</div>"
      ],
      "text/plain": [
       "   AVG(counted)\n",
       "0       2.97351"
      ]
     },
     "execution_count": 23,
     "metadata": {},
     "output_type": "execute_result"
    }
   ],
   "source": [
    "query = \"\"\"SELECT AVG(counted) FROM (\n",
    "SELECT character_id, item_id, COUNT(*) AS counted\n",
    "FROM charactercreator_character_inventory\n",
    "GROUP BY character_id);\n",
    "\"\"\"\n",
    "conn = create_connection('rpg_db.sqlite3')\n",
    "df = pd.read_sql(query, conn)\n",
    "df"
   ]
  },
  {
   "cell_type": "markdown",
   "metadata": {},
   "source": [
    "8. On average, how many Weapons does each character have?"
   ]
  },
  {
   "cell_type": "code",
   "execution_count": 14,
   "metadata": {
    "ExecuteTime": {
     "end_time": "2019-09-10T16:33:24.644081Z",
     "start_time": "2019-09-10T16:33:24.585623Z"
    }
   },
   "outputs": [
    {
     "data": {
      "text/html": [
       "<div>\n",
       "<style scoped>\n",
       "    .dataframe tbody tr th:only-of-type {\n",
       "        vertical-align: middle;\n",
       "    }\n",
       "\n",
       "    .dataframe tbody tr th {\n",
       "        vertical-align: top;\n",
       "    }\n",
       "\n",
       "    .dataframe thead th {\n",
       "        text-align: right;\n",
       "    }\n",
       "</style>\n",
       "<table border=\"1\" class=\"dataframe\">\n",
       "  <thead>\n",
       "    <tr style=\"text-align: right;\">\n",
       "      <th></th>\n",
       "      <th>Character Id</th>\n",
       "      <th>wc</th>\n",
       "    </tr>\n",
       "  </thead>\n",
       "  <tbody>\n",
       "    <tr>\n",
       "      <th>count</th>\n",
       "      <td>302.000000</td>\n",
       "      <td>302.000000</td>\n",
       "    </tr>\n",
       "    <tr>\n",
       "      <th>mean</th>\n",
       "      <td>151.500000</td>\n",
       "      <td>0.672185</td>\n",
       "    </tr>\n",
       "    <tr>\n",
       "      <th>std</th>\n",
       "      <td>87.324109</td>\n",
       "      <td>0.765854</td>\n",
       "    </tr>\n",
       "    <tr>\n",
       "      <th>min</th>\n",
       "      <td>1.000000</td>\n",
       "      <td>0.000000</td>\n",
       "    </tr>\n",
       "    <tr>\n",
       "      <th>25%</th>\n",
       "      <td>76.250000</td>\n",
       "      <td>0.000000</td>\n",
       "    </tr>\n",
       "    <tr>\n",
       "      <th>50%</th>\n",
       "      <td>151.500000</td>\n",
       "      <td>1.000000</td>\n",
       "    </tr>\n",
       "    <tr>\n",
       "      <th>75%</th>\n",
       "      <td>226.750000</td>\n",
       "      <td>1.000000</td>\n",
       "    </tr>\n",
       "    <tr>\n",
       "      <th>max</th>\n",
       "      <td>302.000000</td>\n",
       "      <td>3.000000</td>\n",
       "    </tr>\n",
       "  </tbody>\n",
       "</table>\n",
       "</div>"
      ],
      "text/plain": [
       "       Character Id          wc\n",
       "count    302.000000  302.000000\n",
       "mean     151.500000    0.672185\n",
       "std       87.324109    0.765854\n",
       "min        1.000000    0.000000\n",
       "25%       76.250000    0.000000\n",
       "50%      151.500000    1.000000\n",
       "75%      226.750000    1.000000\n",
       "max      302.000000    3.000000"
      ]
     },
     "execution_count": 14,
     "metadata": {},
     "output_type": "execute_result"
    }
   ],
   "source": [
    "query = '''SELECT cci.character_id as `Character Id`, COUNT(aw.item_ptr_id) as wc\n",
    "FROM charactercreator_character_inventory as cci\n",
    "INNER JOIN armory_item as ai ON cci.item_id = ai.item_id\n",
    "LEFT JOIN armory_weapon as aw ON ai.item_id = aw.item_ptr_id\n",
    "GROUP BY cci.character_id;'''\n",
    "conn = create_connection('rpg_db.sqlite3')\n",
    "df = pd.read_sql(query, conn)\n",
    "df.describe()"
   ]
  },
  {
   "cell_type": "code",
   "execution_count": 15,
   "metadata": {
    "ExecuteTime": {
     "end_time": "2019-09-10T16:33:24.690662Z",
     "start_time": "2019-09-10T16:33:24.645554Z"
    }
   },
   "outputs": [
    {
     "data": {
      "text/html": [
       "<div>\n",
       "<style scoped>\n",
       "    .dataframe tbody tr th:only-of-type {\n",
       "        vertical-align: middle;\n",
       "    }\n",
       "\n",
       "    .dataframe tbody tr th {\n",
       "        vertical-align: top;\n",
       "    }\n",
       "\n",
       "    .dataframe thead th {\n",
       "        text-align: right;\n",
       "    }\n",
       "</style>\n",
       "<table border=\"1\" class=\"dataframe\">\n",
       "  <thead>\n",
       "    <tr style=\"text-align: right;\">\n",
       "      <th></th>\n",
       "      <th>AVG(wc)</th>\n",
       "    </tr>\n",
       "  </thead>\n",
       "  <tbody>\n",
       "    <tr>\n",
       "      <th>0</th>\n",
       "      <td>0.672185</td>\n",
       "    </tr>\n",
       "  </tbody>\n",
       "</table>\n",
       "</div>"
      ],
      "text/plain": [
       "    AVG(wc)\n",
       "0  0.672185"
      ]
     },
     "execution_count": 15,
     "metadata": {},
     "output_type": "execute_result"
    }
   ],
   "source": [
    "query = '''SELECT AVG(wc)\n",
    "FROM (SELECT cci.character_id as `Character Id`, COUNT(aw.item_ptr_id) as wc\n",
    "FROM charactercreator_character_inventory as cci\n",
    "INNER JOIN armory_item as ai ON cci.item_id = ai.item_id\n",
    "LEFT JOIN armory_weapon as aw ON ai.item_id = aw.item_ptr_id\n",
    "GROUP BY cci.character_id)\n",
    "'''\n",
    "conn = create_connection('rpg_db.sqlite3')\n",
    "df = pd.read_sql(query, conn)\n",
    "df"
   ]
  },
  {
   "cell_type": "code",
   "execution_count": 22,
   "metadata": {
    "ExecuteTime": {
     "end_time": "2019-09-10T16:34:10.032226Z",
     "start_time": "2019-09-10T16:34:10.019916Z"
    }
   },
   "outputs": [
    {
     "data": {
      "text/html": [
       "<div>\n",
       "<style scoped>\n",
       "    .dataframe tbody tr th:only-of-type {\n",
       "        vertical-align: middle;\n",
       "    }\n",
       "\n",
       "    .dataframe tbody tr th {\n",
       "        vertical-align: top;\n",
       "    }\n",
       "\n",
       "    .dataframe thead th {\n",
       "        text-align: right;\n",
       "    }\n",
       "</style>\n",
       "<table border=\"1\" class=\"dataframe\">\n",
       "  <thead>\n",
       "    <tr style=\"text-align: right;\">\n",
       "      <th></th>\n",
       "      <th>AVG(counted)</th>\n",
       "    </tr>\n",
       "  </thead>\n",
       "  <tbody>\n",
       "    <tr>\n",
       "      <th>0</th>\n",
       "      <td>1.309677</td>\n",
       "    </tr>\n",
       "  </tbody>\n",
       "</table>\n",
       "</div>"
      ],
      "text/plain": [
       "   AVG(counted)\n",
       "0      1.309677"
      ]
     },
     "execution_count": 22,
     "metadata": {},
     "output_type": "execute_result"
    }
   ],
   "source": [
    "# Will's Answer\n",
    "\n",
    "query = \"\"\"SELECT AVG(counted) FROM (\n",
    "SELECT character_id, item_id, COUNT(*) AS counted\n",
    "FROM charactercreator_character_inventory\n",
    "WHERE item_id IN (SELECT item_ptr_id FROM armory_weapon)\n",
    "GROUP BY character_id);\n",
    "\"\"\"\n",
    "conn = create_connection('rpg_db.sqlite3')\n",
    "df = pd.read_sql(query, conn)\n",
    "df"
   ]
  },
  {
   "cell_type": "markdown",
   "metadata": {},
   "source": [
    "### Assigment - Part 2, Making and populating a Database\n",
    "---\n",
    "\n",
    "Load the data (use `pandas`) from the provided file `buddymove_holidayiq.csv`\n",
    "(the [BuddyMove Data\n",
    "Set](https://archive.ics.uci.edu/ml/datasets/BuddyMove+Data+Set)) - you should\n",
    "have 249 rows, 7 columns, and no missing values. The data reflects the number of\n",
    "place reviews by given users across a variety of categories (sports, parks,\n",
    "malls, etc.).\n",
    "\n",
    "Using the standard `sqlite3` module:\n",
    "\n",
    "- Open a connection to a new (blank) database file `buddymove_holidayiq.sqlite3`\n",
    "- Use `df.to_sql`\n",
    "  ([documentation](https://pandas.pydata.org/pandas-docs/stable/reference/api/pandas.DataFrame.to_sql.html))\n",
    "  to insert the data into a new table `review` in the SQLite3 database\n",
    "\n",
    "Then write the following queries (also with `sqlite3`) to test:\n",
    "\n",
    "- Count how many rows you have - it should be 249!\n",
    "- How many users who reviewed at least 100 `Nature` in the category also\n",
    "  reviewed at least 100 in the `Shopping` category?\n",
    "- (*Stretch*) What are the average number of reviews for each category?\n",
    "\n",
    "Your code (to reproduce all above steps) should be saved in\n",
    "`buddymove_holidayiq.py`, and added to the repository along with the generated\n",
    "SQLite database."
   ]
  },
  {
   "cell_type": "code",
   "execution_count": 16,
   "metadata": {
    "ExecuteTime": {
     "end_time": "2019-09-10T16:33:24.804062Z",
     "start_time": "2019-09-10T16:33:24.694905Z"
    }
   },
   "outputs": [
    {
     "name": "stderr",
     "output_type": "stream",
     "text": [
      "/home/asura/anaconda3/envs/practicalml/lib/python3.7/site-packages/pandas/core/generic.py:2130: UserWarning: The spaces in these column names will not be changed. In pandas versions < 0.14, spaces were converted to underscores.\n",
      "  dtype=dtype)\n"
     ]
    },
    {
     "data": {
      "text/html": [
       "<div>\n",
       "<style scoped>\n",
       "    .dataframe tbody tr th:only-of-type {\n",
       "        vertical-align: middle;\n",
       "    }\n",
       "\n",
       "    .dataframe tbody tr th {\n",
       "        vertical-align: top;\n",
       "    }\n",
       "\n",
       "    .dataframe thead th {\n",
       "        text-align: right;\n",
       "    }\n",
       "</style>\n",
       "<table border=\"1\" class=\"dataframe\">\n",
       "  <thead>\n",
       "    <tr style=\"text-align: right;\">\n",
       "      <th></th>\n",
       "      <th>User Id</th>\n",
       "      <th>Sports</th>\n",
       "      <th>Religious</th>\n",
       "      <th>Nature</th>\n",
       "      <th>Theatre</th>\n",
       "      <th>Shopping</th>\n",
       "      <th>Picnic</th>\n",
       "    </tr>\n",
       "  </thead>\n",
       "  <tbody>\n",
       "    <tr>\n",
       "      <th>0</th>\n",
       "      <td>User 1</td>\n",
       "      <td>2</td>\n",
       "      <td>77</td>\n",
       "      <td>79</td>\n",
       "      <td>69</td>\n",
       "      <td>68</td>\n",
       "      <td>95</td>\n",
       "    </tr>\n",
       "    <tr>\n",
       "      <th>1</th>\n",
       "      <td>User 2</td>\n",
       "      <td>2</td>\n",
       "      <td>62</td>\n",
       "      <td>76</td>\n",
       "      <td>76</td>\n",
       "      <td>69</td>\n",
       "      <td>68</td>\n",
       "    </tr>\n",
       "    <tr>\n",
       "      <th>2</th>\n",
       "      <td>User 3</td>\n",
       "      <td>2</td>\n",
       "      <td>50</td>\n",
       "      <td>97</td>\n",
       "      <td>87</td>\n",
       "      <td>50</td>\n",
       "      <td>75</td>\n",
       "    </tr>\n",
       "    <tr>\n",
       "      <th>3</th>\n",
       "      <td>User 4</td>\n",
       "      <td>2</td>\n",
       "      <td>68</td>\n",
       "      <td>77</td>\n",
       "      <td>95</td>\n",
       "      <td>76</td>\n",
       "      <td>61</td>\n",
       "    </tr>\n",
       "    <tr>\n",
       "      <th>4</th>\n",
       "      <td>User 5</td>\n",
       "      <td>2</td>\n",
       "      <td>98</td>\n",
       "      <td>54</td>\n",
       "      <td>59</td>\n",
       "      <td>95</td>\n",
       "      <td>86</td>\n",
       "    </tr>\n",
       "  </tbody>\n",
       "</table>\n",
       "</div>"
      ],
      "text/plain": [
       "  User Id  Sports  Religious  Nature  Theatre  Shopping  Picnic\n",
       "0  User 1       2         77      79       69        68      95\n",
       "1  User 2       2         62      76       76        69      68\n",
       "2  User 3       2         50      97       87        50      75\n",
       "3  User 4       2         68      77       95        76      61\n",
       "4  User 5       2         98      54       59        95      86"
      ]
     },
     "execution_count": 16,
     "metadata": {},
     "output_type": "execute_result"
    }
   ],
   "source": [
    "# Create database file if it doesn't exist\n",
    "with sqlite3.connect('buddymove_holidayiq.sqlite3') as conn:\n",
    "    \n",
    "    # 1. Read csv file\n",
    "    df = pd.read_csv('buddymove_holidayiq.csv')\n",
    "    \n",
    "    # 2. DROP TABLE review IF EXISTS\n",
    "    drop_query = 'DROP TABLE IF EXISTS review'\n",
    "    conn.cursor().execute(drop_query)\n",
    "    \n",
    "    # 3. INSERT TABLE review\n",
    "    df.to_sql('review', conn, index=False)\n",
    "    query = 'SELECT * FROM review'\n",
    "    df = pd.read_sql(query, conn)\n",
    "df.head()"
   ]
  },
  {
   "cell_type": "markdown",
   "metadata": {},
   "source": [
    "- Count how many rows you have - it should be 249!"
   ]
  },
  {
   "cell_type": "code",
   "execution_count": 17,
   "metadata": {
    "ExecuteTime": {
     "end_time": "2019-09-10T16:33:24.818610Z",
     "start_time": "2019-09-10T16:33:24.807575Z"
    }
   },
   "outputs": [
    {
     "data": {
      "text/plain": [
       "249"
      ]
     },
     "execution_count": 17,
     "metadata": {},
     "output_type": "execute_result"
    }
   ],
   "source": [
    "query = '''SELECT COUNT(*) FROM review;'''\n",
    "select_all_query('buddymove_holidayiq.sqlite3', query)[0][0]"
   ]
  },
  {
   "cell_type": "markdown",
   "metadata": {},
   "source": [
    "- How many users who reviewed at least 100 Nature in the category also reviewed at least 100 in the Shopping category?"
   ]
  },
  {
   "cell_type": "code",
   "execution_count": 18,
   "metadata": {
    "ExecuteTime": {
     "end_time": "2019-09-10T16:33:24.870079Z",
     "start_time": "2019-09-10T16:33:24.820333Z"
    }
   },
   "outputs": [
    {
     "data": {
      "text/html": [
       "<div>\n",
       "<style scoped>\n",
       "    .dataframe tbody tr th:only-of-type {\n",
       "        vertical-align: middle;\n",
       "    }\n",
       "\n",
       "    .dataframe tbody tr th {\n",
       "        vertical-align: top;\n",
       "    }\n",
       "\n",
       "    .dataframe thead th {\n",
       "        text-align: right;\n",
       "    }\n",
       "</style>\n",
       "<table border=\"1\" class=\"dataframe\">\n",
       "  <thead>\n",
       "    <tr style=\"text-align: right;\">\n",
       "      <th></th>\n",
       "      <th>User Id</th>\n",
       "      <th>Sports</th>\n",
       "      <th>Religious</th>\n",
       "      <th>Nature</th>\n",
       "      <th>Theatre</th>\n",
       "      <th>Shopping</th>\n",
       "      <th>Picnic</th>\n",
       "    </tr>\n",
       "  </thead>\n",
       "  <tbody>\n",
       "    <tr>\n",
       "      <th>0</th>\n",
       "      <td>User 53</td>\n",
       "      <td>4</td>\n",
       "      <td>79</td>\n",
       "      <td>103</td>\n",
       "      <td>68</td>\n",
       "      <td>103</td>\n",
       "      <td>85</td>\n",
       "    </tr>\n",
       "    <tr>\n",
       "      <th>1</th>\n",
       "      <td>User 55</td>\n",
       "      <td>8</td>\n",
       "      <td>94</td>\n",
       "      <td>140</td>\n",
       "      <td>89</td>\n",
       "      <td>118</td>\n",
       "      <td>92</td>\n",
       "    </tr>\n",
       "    <tr>\n",
       "      <th>2</th>\n",
       "      <td>User 62</td>\n",
       "      <td>8</td>\n",
       "      <td>94</td>\n",
       "      <td>128</td>\n",
       "      <td>89</td>\n",
       "      <td>128</td>\n",
       "      <td>99</td>\n",
       "    </tr>\n",
       "    <tr>\n",
       "      <th>3</th>\n",
       "      <td>User 64</td>\n",
       "      <td>6</td>\n",
       "      <td>84</td>\n",
       "      <td>108</td>\n",
       "      <td>138</td>\n",
       "      <td>103</td>\n",
       "      <td>79</td>\n",
       "    </tr>\n",
       "    <tr>\n",
       "      <th>4</th>\n",
       "      <td>User 66</td>\n",
       "      <td>6</td>\n",
       "      <td>89</td>\n",
       "      <td>108</td>\n",
       "      <td>128</td>\n",
       "      <td>116</td>\n",
       "      <td>81</td>\n",
       "    </tr>\n",
       "  </tbody>\n",
       "</table>\n",
       "</div>"
      ],
      "text/plain": [
       "   User Id  Sports  Religious  Nature  Theatre  Shopping  Picnic\n",
       "0  User 53       4         79     103       68       103      85\n",
       "1  User 55       8         94     140       89       118      92\n",
       "2  User 62       8         94     128       89       128      99\n",
       "3  User 64       6         84     108      138       103      79\n",
       "4  User 66       6         89     108      128       116      81"
      ]
     },
     "execution_count": 18,
     "metadata": {},
     "output_type": "execute_result"
    }
   ],
   "source": [
    "query = '''SELECT *\n",
    "FROM review\n",
    "WHERE `Nature` >= 100 AND `Shopping` >= 100\n",
    "'''\n",
    "conn = create_connection('buddymove_holidayiq.sqlite3')\n",
    "df = pd.read_sql(query, conn)\n",
    "df.head()"
   ]
  },
  {
   "cell_type": "markdown",
   "metadata": {},
   "source": [
    "- (Stretch) What are the average number of reviews for each category?"
   ]
  },
  {
   "cell_type": "code",
   "execution_count": 19,
   "metadata": {
    "ExecuteTime": {
     "end_time": "2019-09-10T16:33:24.930401Z",
     "start_time": "2019-09-10T16:33:24.872458Z"
    }
   },
   "outputs": [
    {
     "data": {
      "text/html": [
       "<div>\n",
       "<style scoped>\n",
       "    .dataframe tbody tr th:only-of-type {\n",
       "        vertical-align: middle;\n",
       "    }\n",
       "\n",
       "    .dataframe tbody tr th {\n",
       "        vertical-align: top;\n",
       "    }\n",
       "\n",
       "    .dataframe thead th {\n",
       "        text-align: right;\n",
       "    }\n",
       "</style>\n",
       "<table border=\"1\" class=\"dataframe\">\n",
       "  <thead>\n",
       "    <tr style=\"text-align: right;\">\n",
       "      <th></th>\n",
       "      <th>Sports</th>\n",
       "      <th>Religious</th>\n",
       "      <th>Nature</th>\n",
       "      <th>Theatre</th>\n",
       "      <th>Shopping</th>\n",
       "      <th>Picnic</th>\n",
       "    </tr>\n",
       "  </thead>\n",
       "  <tbody>\n",
       "    <tr>\n",
       "      <th>count</th>\n",
       "      <td>249.000000</td>\n",
       "      <td>249.000000</td>\n",
       "      <td>249.000000</td>\n",
       "      <td>249.000000</td>\n",
       "      <td>249.000000</td>\n",
       "      <td>249.000000</td>\n",
       "    </tr>\n",
       "    <tr>\n",
       "      <th>mean</th>\n",
       "      <td>11.987952</td>\n",
       "      <td>109.779116</td>\n",
       "      <td>124.518072</td>\n",
       "      <td>116.377510</td>\n",
       "      <td>112.638554</td>\n",
       "      <td>120.401606</td>\n",
       "    </tr>\n",
       "    <tr>\n",
       "      <th>std</th>\n",
       "      <td>6.616501</td>\n",
       "      <td>32.454115</td>\n",
       "      <td>45.639372</td>\n",
       "      <td>32.132696</td>\n",
       "      <td>41.562888</td>\n",
       "      <td>32.633339</td>\n",
       "    </tr>\n",
       "    <tr>\n",
       "      <th>min</th>\n",
       "      <td>2.000000</td>\n",
       "      <td>50.000000</td>\n",
       "      <td>52.000000</td>\n",
       "      <td>59.000000</td>\n",
       "      <td>50.000000</td>\n",
       "      <td>61.000000</td>\n",
       "    </tr>\n",
       "    <tr>\n",
       "      <th>25%</th>\n",
       "      <td>6.000000</td>\n",
       "      <td>84.000000</td>\n",
       "      <td>89.000000</td>\n",
       "      <td>93.000000</td>\n",
       "      <td>79.000000</td>\n",
       "      <td>92.000000</td>\n",
       "    </tr>\n",
       "    <tr>\n",
       "      <th>50%</th>\n",
       "      <td>12.000000</td>\n",
       "      <td>104.000000</td>\n",
       "      <td>119.000000</td>\n",
       "      <td>113.000000</td>\n",
       "      <td>104.000000</td>\n",
       "      <td>119.000000</td>\n",
       "    </tr>\n",
       "    <tr>\n",
       "      <th>75%</th>\n",
       "      <td>18.000000</td>\n",
       "      <td>132.000000</td>\n",
       "      <td>153.000000</td>\n",
       "      <td>138.000000</td>\n",
       "      <td>138.000000</td>\n",
       "      <td>143.000000</td>\n",
       "    </tr>\n",
       "    <tr>\n",
       "      <th>max</th>\n",
       "      <td>25.000000</td>\n",
       "      <td>203.000000</td>\n",
       "      <td>318.000000</td>\n",
       "      <td>213.000000</td>\n",
       "      <td>233.000000</td>\n",
       "      <td>218.000000</td>\n",
       "    </tr>\n",
       "  </tbody>\n",
       "</table>\n",
       "</div>"
      ],
      "text/plain": [
       "           Sports   Religious      Nature     Theatre    Shopping      Picnic\n",
       "count  249.000000  249.000000  249.000000  249.000000  249.000000  249.000000\n",
       "mean    11.987952  109.779116  124.518072  116.377510  112.638554  120.401606\n",
       "std      6.616501   32.454115   45.639372   32.132696   41.562888   32.633339\n",
       "min      2.000000   50.000000   52.000000   59.000000   50.000000   61.000000\n",
       "25%      6.000000   84.000000   89.000000   93.000000   79.000000   92.000000\n",
       "50%     12.000000  104.000000  119.000000  113.000000  104.000000  119.000000\n",
       "75%     18.000000  132.000000  153.000000  138.000000  138.000000  143.000000\n",
       "max     25.000000  203.000000  318.000000  213.000000  233.000000  218.000000"
      ]
     },
     "execution_count": 19,
     "metadata": {},
     "output_type": "execute_result"
    }
   ],
   "source": [
    "query = '''SELECT *\n",
    "FROM review\n",
    "'''\n",
    "conn = create_connection('buddymove_holidayiq.sqlite3')\n",
    "df = pd.read_sql(query, conn)\n",
    "df.describe()"
   ]
  },
  {
   "cell_type": "code",
   "execution_count": 20,
   "metadata": {
    "ExecuteTime": {
     "end_time": "2019-09-10T16:33:24.962867Z",
     "start_time": "2019-09-10T16:33:24.932038Z"
    }
   },
   "outputs": [
    {
     "data": {
      "text/html": [
       "<div>\n",
       "<style scoped>\n",
       "    .dataframe tbody tr th:only-of-type {\n",
       "        vertical-align: middle;\n",
       "    }\n",
       "\n",
       "    .dataframe tbody tr th {\n",
       "        vertical-align: top;\n",
       "    }\n",
       "\n",
       "    .dataframe thead th {\n",
       "        text-align: right;\n",
       "    }\n",
       "</style>\n",
       "<table border=\"1\" class=\"dataframe\">\n",
       "  <thead>\n",
       "    <tr style=\"text-align: right;\">\n",
       "      <th></th>\n",
       "      <th>AVG(Sports)</th>\n",
       "      <th>AVG(Religious)</th>\n",
       "      <th>AVG(Nature)</th>\n",
       "      <th>AVG(Theatre)</th>\n",
       "      <th>AVG(Shopping)</th>\n",
       "      <th>AVG(Picnic)</th>\n",
       "    </tr>\n",
       "  </thead>\n",
       "  <tbody>\n",
       "    <tr>\n",
       "      <th>0</th>\n",
       "      <td>11.987952</td>\n",
       "      <td>109.779116</td>\n",
       "      <td>124.518072</td>\n",
       "      <td>116.37751</td>\n",
       "      <td>112.638554</td>\n",
       "      <td>120.401606</td>\n",
       "    </tr>\n",
       "  </tbody>\n",
       "</table>\n",
       "</div>"
      ],
      "text/plain": [
       "   AVG(Sports)  AVG(Religious)  AVG(Nature)  AVG(Theatre)  AVG(Shopping)  \\\n",
       "0    11.987952      109.779116   124.518072     116.37751     112.638554   \n",
       "\n",
       "   AVG(Picnic)  \n",
       "0   120.401606  "
      ]
     },
     "execution_count": 20,
     "metadata": {},
     "output_type": "execute_result"
    }
   ],
   "source": [
    "query = '''SELECT AVG(Sports), AVG(Religious), AVG(Nature), AVG(Theatre), AVG(Shopping), AVG(Picnic)\n",
    "FROM review\n",
    "'''\n",
    "conn = create_connection('buddymove_holidayiq.sqlite3')\n",
    "df = pd.read_sql(query, conn)\n",
    "df"
   ]
  },
  {
   "cell_type": "code",
   "execution_count": 21,
   "metadata": {
    "ExecuteTime": {
     "end_time": "2019-09-10T16:33:25.005152Z",
     "start_time": "2019-09-10T16:33:24.964510Z"
    }
   },
   "outputs": [
    {
     "data": {
      "text/plain": [
       "[('review',)]"
      ]
     },
     "execution_count": 21,
     "metadata": {},
     "output_type": "execute_result"
    }
   ],
   "source": [
    "def get_sql_tables(db_con):\n",
    "    c = db_con.cursor()\n",
    "    c.execute(\"SELECT name FROM sqlite_master WHERE type='table';\")\n",
    "    return c.fetchall()\n",
    "conn = create_connection('buddymove_holidayiq.sqlite3')\n",
    "get_sql_tables(conn)"
   ]
  },
  {
   "cell_type": "markdown",
   "metadata": {},
   "source": [
    "### Resources and Stretch Goals\n",
    "---\n",
    "\n",
    "For a more complicated example SQLite database with a number of tables to play\n",
    "with, check out this [SQLite Sample\n",
    "Database](https://www.sqlitetutorial.net/sqlite-sample-database/).\n",
    "\n",
    "The RPG data also exists in a [JSON\n",
    "file](https://github.com/LambdaSchool/Django-RPG/blob/master/testdata.json) -\n",
    "try loading it with the standard [json\n",
    "module](https://docs.python.org/3.5/library/json.html), and reproducing the\n",
    "above queries with direct manipulation of the Python dictionaries. Also, try to\n",
    "load it into a `pandas` dataframe and reproduce the above queries with\n",
    "appropriate dataframe function calls.\n",
    "\n",
    "This database is part of a Django (Python webapp framework) application, the\n",
    "[Django-RPG](https://github.com/LambdaSchool/Django-RPG/tree/master) - check it\n",
    "out, and (though this is very much a stretch goal) you can [get started with\n",
    "Django](https://www.djangoproject.com/start/) and see if you can run it\n",
    "(definitely use `pipenv`!). If you are able to, then you can use the the [Django\n",
    "ORM](https://docs.djangoproject.com/en/2.1/topics/db/) (object-relational\n",
    "mapping, a way to interact with SQL through programming language objects), and\n",
    "[query](https://docs.djangoproject.com/en/2.1/topics/db/queries/) the data.\n",
    "You'll find that the questions we answered with pure SQL are remarkably simple\n",
    "to answer using the ORM.\n",
    "\n",
    "If you need one more stretch goal - the RPG data was generated using\n",
    "[django-autofixture](https://github.com/volrath/django-autofixture), a tool that\n",
    "facilitates tests by randomly generating data. Check it out, and if you got\n",
    "Django working, see if you can generate more data."
   ]
  }
 ],
 "metadata": {
  "kernelspec": {
   "display_name": "Python 3.6 (practicalml)",
   "language": "python",
   "name": "practicalml"
  },
  "language_info": {
   "codemirror_mode": {
    "name": "ipython",
    "version": 3
   },
   "file_extension": ".py",
   "mimetype": "text/x-python",
   "name": "python",
   "nbconvert_exporter": "python",
   "pygments_lexer": "ipython3",
   "version": "3.7.4"
  }
 },
 "nbformat": 4,
 "nbformat_minor": 2
}
